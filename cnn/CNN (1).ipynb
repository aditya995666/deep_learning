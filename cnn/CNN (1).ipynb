{
  "nbformat": 4,
  "nbformat_minor": 0,
  "metadata": {
    "colab": {
      "provenance": []
    },
    "kernelspec": {
      "name": "python3",
      "display_name": "Python 3"
    },
    "language_info": {
      "name": "python"
    }
  },
  "cells": [
    {
      "cell_type": "code",
      "execution_count": null,
      "metadata": {
        "id": "fnRrHSoC_Bek"
      },
      "outputs": [],
      "source": [
        "import tensorflow   as tf\n",
        "from keras.layers import Dense, Flatten, Conv2D , MaxPooling2D\n",
        "from keras.models import Sequential"
      ]
    },
    {
      "cell_type": "code",
      "source": [
        "cnn=Sequential()"
      ],
      "metadata": {
        "id": "3sA8OQcf_VAJ"
      },
      "execution_count": null,
      "outputs": []
    },
    {
      "cell_type": "code",
      "source": [
        "# draw the convolutional network\n",
        "cnn.add(Conv2D(filters=32,kernel_size=3,activation='relu',input_shape=[100,100,3]))\n",
        "cnn.add(MaxPooling2D(pool_size=2,strides=2))\n",
        "# draw the convolutional network\n",
        "cnn.add(Conv2D(filters=16,kernel_size=3,input_shape=[64,64,3]))\n",
        "cnn.add(MaxPooling2D(pool_size=2,strides=2))\n",
        "cnn.add(Flatten())\n",
        "cnn.add(Dense(100,activation='relu'))\n",
        "cnn.add(Dense(50,activation='relu'))\n",
        "cnn.add(Dense(25,activation='relu'))\n",
        "\n",
        "cnn.add(Dense(units=1,activation='sigmoid'))\n",
        "#"
      ],
      "metadata": {
        "id": "bNqjNQL2_4HZ"
      },
      "execution_count": null,
      "outputs": []
    },
    {
      "cell_type": "code",
      "source": [
        "cnn.compile(optimizer=\"adam\",loss=\"binary_crossentropy\")"
      ],
      "metadata": {
        "id": "nccSUCl8AtFx"
      },
      "execution_count": null,
      "outputs": []
    },
    {
      "cell_type": "code",
      "source": [
        "from tensorflow.keras.preprocessing.image import ImageDataGenerator\n",
        "train_datagen = ImageDataGenerator(\n",
        "        rescale=1./255,\n",
        "        shear_range=0.2,\n",
        "        zoom_range=0.2,\n",
        "        horizontal_flip=True)\n",
        "\n",
        "test_datagen = ImageDataGenerator(rescale=1./255)\n",
        "\n",
        "train_generator = train_datagen.flow_from_directory(\n",
        "        '/content/drive/MyDrive/train',\n",
        "        target_size=(100, 100),\n",
        "        batch_size=32,\n",
        "        class_mode='binary')\n",
        "\n",
        "test_generator = test_datagen.flow_from_directory(\n",
        "        '/content/drive/MyDrive/test',\n",
        "        target_size=(100, 100),\n",
        "        batch_size=32,\n",
        "        class_mode='binary')\n",
        "cnn.fit(train_generator,steps_per_epoch=20,epochs=50,validation_data=test_generator)"
      ],
      "metadata": {
        "id": "BTb_iO9kBU1k",
        "colab": {
          "base_uri": "https://localhost:8080/"
        },
        "outputId": "59167f23-00d2-4a6a-bac2-ecbb2ac06697"
      },
      "execution_count": null,
      "outputs": [
        {
          "output_type": "stream",
          "name": "stdout",
          "text": [
            "Found 557 images belonging to 2 classes.\n",
            "Found 140 images belonging to 2 classes.\n",
            "Epoch 1/50\n",
            "\u001b[1m18/20\u001b[0m \u001b[32m━━━━━━━━━━━━━━━━━━\u001b[0m\u001b[37m━━\u001b[0m \u001b[1m1s\u001b[0m 589ms/step - loss: 0.7078"
          ]
        },
        {
          "output_type": "stream",
          "name": "stderr",
          "text": [
            "/usr/local/lib/python3.11/dist-packages/keras/src/trainers/epoch_iterator.py:107: UserWarning: Your input ran out of data; interrupting training. Make sure that your dataset or generator can generate at least `steps_per_epoch * epochs` batches. You may need to use the `.repeat()` function when building your dataset.\n",
            "  self._interrupted_warning()\n"
          ]
        },
        {
          "output_type": "stream",
          "name": "stdout",
          "text": [
            "\b\b\b\b\b\b\b\b\b\b\b\b\b\b\b\b\b\b\b\b\b\b\b\b\b\b\b\b\b\b\b\b\b\b\b\b\b\b\b\b\b\b\b\b\b\b\b\b\b\b\b\b\b\b\b\r\u001b[1m20/20\u001b[0m \u001b[32m━━━━━━━━━━━━━━━━━━━━\u001b[0m\u001b[37m\u001b[0m \u001b[1m77s\u001b[0m 4s/step - loss: 0.7075 - val_loss: 0.6913\n",
            "Epoch 2/50\n",
            "\u001b[1m20/20\u001b[0m \u001b[32m━━━━━━━━━━━━━━━━━━━━\u001b[0m\u001b[37m\u001b[0m \u001b[1m15s\u001b[0m 752ms/step - loss: 0.6891 - val_loss: 0.6916\n",
            "Epoch 3/50\n",
            "\u001b[1m20/20\u001b[0m \u001b[32m━━━━━━━━━━━━━━━━━━━━\u001b[0m\u001b[37m\u001b[0m \u001b[1m20s\u001b[0m 758ms/step - loss: 0.7047 - val_loss: 0.6947\n",
            "Epoch 4/50\n",
            "\u001b[1m20/20\u001b[0m \u001b[32m━━━━━━━━━━━━━━━━━━━━\u001b[0m\u001b[37m\u001b[0m \u001b[1m21s\u001b[0m 767ms/step - loss: 0.6661 - val_loss: 0.6891\n",
            "Epoch 5/50\n",
            "\u001b[1m20/20\u001b[0m \u001b[32m━━━━━━━━━━━━━━━━━━━━\u001b[0m\u001b[37m\u001b[0m \u001b[1m16s\u001b[0m 759ms/step - loss: 0.6261 - val_loss: 0.6674\n",
            "Epoch 6/50\n",
            "\u001b[1m20/20\u001b[0m \u001b[32m━━━━━━━━━━━━━━━━━━━━\u001b[0m\u001b[37m\u001b[0m \u001b[1m19s\u001b[0m 683ms/step - loss: 0.6410 - val_loss: 0.6937\n",
            "Epoch 7/50\n",
            "\u001b[1m20/20\u001b[0m \u001b[32m━━━━━━━━━━━━━━━━━━━━\u001b[0m\u001b[37m\u001b[0m \u001b[1m21s\u001b[0m 737ms/step - loss: 0.5820 - val_loss: 0.7067\n",
            "Epoch 8/50\n",
            "\u001b[1m20/20\u001b[0m \u001b[32m━━━━━━━━━━━━━━━━━━━━\u001b[0m\u001b[37m\u001b[0m \u001b[1m15s\u001b[0m 743ms/step - loss: 0.5705 - val_loss: 0.6962\n",
            "Epoch 9/50\n",
            "\u001b[1m20/20\u001b[0m \u001b[32m━━━━━━━━━━━━━━━━━━━━\u001b[0m\u001b[37m\u001b[0m \u001b[1m21s\u001b[0m 760ms/step - loss: 0.5640 - val_loss: 0.7460\n",
            "Epoch 10/50\n",
            "\u001b[1m20/20\u001b[0m \u001b[32m━━━━━━━━━━━━━━━━━━━━\u001b[0m\u001b[37m\u001b[0m \u001b[1m21s\u001b[0m 786ms/step - loss: 0.5382 - val_loss: 0.6939\n",
            "Epoch 11/50\n",
            "\u001b[1m20/20\u001b[0m \u001b[32m━━━━━━━━━━━━━━━━━━━━\u001b[0m\u001b[37m\u001b[0m \u001b[1m15s\u001b[0m 771ms/step - loss: 0.5444 - val_loss: 0.7251\n",
            "Epoch 12/50\n",
            "\u001b[1m20/20\u001b[0m \u001b[32m━━━━━━━━━━━━━━━━━━━━\u001b[0m\u001b[37m\u001b[0m \u001b[1m21s\u001b[0m 747ms/step - loss: 0.4967 - val_loss: 0.7991\n",
            "Epoch 13/50\n",
            "\u001b[1m20/20\u001b[0m \u001b[32m━━━━━━━━━━━━━━━━━━━━\u001b[0m\u001b[37m\u001b[0m \u001b[1m16s\u001b[0m 782ms/step - loss: 0.5450 - val_loss: 0.6544\n",
            "Epoch 14/50\n",
            "\u001b[1m20/20\u001b[0m \u001b[32m━━━━━━━━━━━━━━━━━━━━\u001b[0m\u001b[37m\u001b[0m \u001b[1m20s\u001b[0m 766ms/step - loss: 0.4616 - val_loss: 0.7041\n",
            "Epoch 15/50\n",
            "\u001b[1m20/20\u001b[0m \u001b[32m━━━━━━━━━━━━━━━━━━━━\u001b[0m\u001b[37m\u001b[0m \u001b[1m15s\u001b[0m 722ms/step - loss: 0.4791 - val_loss: 0.6688\n",
            "Epoch 16/50\n",
            "\u001b[1m20/20\u001b[0m \u001b[32m━━━━━━━━━━━━━━━━━━━━\u001b[0m\u001b[37m\u001b[0m \u001b[1m21s\u001b[0m 778ms/step - loss: 0.4313 - val_loss: 0.7020\n",
            "Epoch 17/50\n",
            "\u001b[1m20/20\u001b[0m \u001b[32m━━━━━━━━━━━━━━━━━━━━\u001b[0m\u001b[37m\u001b[0m \u001b[1m16s\u001b[0m 781ms/step - loss: 0.4566 - val_loss: 0.7470\n",
            "Epoch 18/50\n",
            "\u001b[1m20/20\u001b[0m \u001b[32m━━━━━━━━━━━━━━━━━━━━\u001b[0m\u001b[37m\u001b[0m \u001b[1m15s\u001b[0m 754ms/step - loss: 0.4124 - val_loss: 0.8170\n",
            "Epoch 19/50\n",
            "\u001b[1m20/20\u001b[0m \u001b[32m━━━━━━━━━━━━━━━━━━━━\u001b[0m\u001b[37m\u001b[0m \u001b[1m14s\u001b[0m 699ms/step - loss: 0.3784 - val_loss: 0.7452\n",
            "Epoch 20/50\n",
            "\u001b[1m20/20\u001b[0m \u001b[32m━━━━━━━━━━━━━━━━━━━━\u001b[0m\u001b[37m\u001b[0m \u001b[1m22s\u001b[0m 806ms/step - loss: 0.4046 - val_loss: 0.8894\n",
            "Epoch 21/50\n",
            "\u001b[1m20/20\u001b[0m \u001b[32m━━━━━━━━━━━━━━━━━━━━\u001b[0m\u001b[37m\u001b[0m \u001b[1m19s\u001b[0m 752ms/step - loss: 0.4325 - val_loss: 0.6958\n",
            "Epoch 22/50\n",
            "\u001b[1m20/20\u001b[0m \u001b[32m━━━━━━━━━━━━━━━━━━━━\u001b[0m\u001b[37m\u001b[0m \u001b[1m18s\u001b[0m 895ms/step - loss: 0.3399 - val_loss: 0.8483\n",
            "Epoch 23/50\n",
            "\u001b[1m20/20\u001b[0m \u001b[32m━━━━━━━━━━━━━━━━━━━━\u001b[0m\u001b[37m\u001b[0m \u001b[1m17s\u001b[0m 840ms/step - loss: 0.3053 - val_loss: 0.8044\n",
            "Epoch 24/50\n",
            "\u001b[1m20/20\u001b[0m \u001b[32m━━━━━━━━━━━━━━━━━━━━\u001b[0m\u001b[37m\u001b[0m \u001b[1m17s\u001b[0m 837ms/step - loss: 0.2571 - val_loss: 0.8445\n",
            "Epoch 25/50\n",
            "\u001b[1m20/20\u001b[0m \u001b[32m━━━━━━━━━━━━━━━━━━━━\u001b[0m\u001b[37m\u001b[0m \u001b[1m16s\u001b[0m 785ms/step - loss: 0.2944 - val_loss: 0.9644\n",
            "Epoch 26/50\n",
            "\u001b[1m20/20\u001b[0m \u001b[32m━━━━━━━━━━━━━━━━━━━━\u001b[0m\u001b[37m\u001b[0m \u001b[1m20s\u001b[0m 778ms/step - loss: 0.2040 - val_loss: 0.9516\n",
            "Epoch 27/50\n",
            "\u001b[1m20/20\u001b[0m \u001b[32m━━━━━━━━━━━━━━━━━━━━\u001b[0m\u001b[37m\u001b[0m \u001b[1m15s\u001b[0m 735ms/step - loss: 0.3154 - val_loss: 0.9216\n",
            "Epoch 28/50\n",
            "\u001b[1m20/20\u001b[0m \u001b[32m━━━━━━━━━━━━━━━━━━━━\u001b[0m\u001b[37m\u001b[0m \u001b[1m16s\u001b[0m 802ms/step - loss: 0.2852 - val_loss: 1.1312\n",
            "Epoch 29/50\n",
            "\u001b[1m20/20\u001b[0m \u001b[32m━━━━━━━━━━━━━━━━━━━━\u001b[0m\u001b[37m\u001b[0m \u001b[1m21s\u001b[0m 1s/step - loss: 0.2519 - val_loss: 1.2050\n",
            "Epoch 30/50\n",
            "\u001b[1m20/20\u001b[0m \u001b[32m━━━━━━━━━━━━━━━━━━━━\u001b[0m\u001b[37m\u001b[0m \u001b[1m17s\u001b[0m 832ms/step - loss: 0.2103 - val_loss: 0.9987\n",
            "Epoch 31/50\n",
            "\u001b[1m20/20\u001b[0m \u001b[32m━━━━━━━━━━━━━━━━━━━━\u001b[0m\u001b[37m\u001b[0m \u001b[1m18s\u001b[0m 724ms/step - loss: 0.1892 - val_loss: 0.9187\n",
            "Epoch 32/50\n",
            "\u001b[1m20/20\u001b[0m \u001b[32m━━━━━━━━━━━━━━━━━━━━\u001b[0m\u001b[37m\u001b[0m \u001b[1m15s\u001b[0m 777ms/step - loss: 0.1785 - val_loss: 0.8883\n",
            "Epoch 33/50\n",
            "\u001b[1m20/20\u001b[0m \u001b[32m━━━━━━━━━━━━━━━━━━━━\u001b[0m\u001b[37m\u001b[0m \u001b[1m20s\u001b[0m 702ms/step - loss: 0.1522 - val_loss: 0.9492\n",
            "Epoch 34/50\n",
            "\u001b[1m20/20\u001b[0m \u001b[32m━━━━━━━━━━━━━━━━━━━━\u001b[0m\u001b[37m\u001b[0m \u001b[1m15s\u001b[0m 695ms/step - loss: 0.1646 - val_loss: 0.9863\n",
            "Epoch 35/50\n",
            "\u001b[1m20/20\u001b[0m \u001b[32m━━━━━━━━━━━━━━━━━━━━\u001b[0m\u001b[37m\u001b[0m \u001b[1m15s\u001b[0m 738ms/step - loss: 0.1600 - val_loss: 1.0624\n",
            "Epoch 36/50\n",
            "\u001b[1m20/20\u001b[0m \u001b[32m━━━━━━━━━━━━━━━━━━━━\u001b[0m\u001b[37m\u001b[0m \u001b[1m15s\u001b[0m 757ms/step - loss: 0.1352 - val_loss: 1.0510\n",
            "Epoch 37/50\n",
            "\u001b[1m20/20\u001b[0m \u001b[32m━━━━━━━━━━━━━━━━━━━━\u001b[0m\u001b[37m\u001b[0m \u001b[1m21s\u001b[0m 743ms/step - loss: 0.1373 - val_loss: 1.1652\n",
            "Epoch 38/50\n",
            "\u001b[1m20/20\u001b[0m \u001b[32m━━━━━━━━━━━━━━━━━━━━\u001b[0m\u001b[37m\u001b[0m \u001b[1m20s\u001b[0m 725ms/step - loss: 0.1092 - val_loss: 1.1141\n",
            "Epoch 39/50\n",
            "\u001b[1m20/20\u001b[0m \u001b[32m━━━━━━━━━━━━━━━━━━━━\u001b[0m\u001b[37m\u001b[0m \u001b[1m21s\u001b[0m 752ms/step - loss: 0.1692 - val_loss: 1.0751\n",
            "Epoch 40/50\n",
            "\u001b[1m20/20\u001b[0m \u001b[32m━━━━━━━━━━━━━━━━━━━━\u001b[0m\u001b[37m\u001b[0m \u001b[1m16s\u001b[0m 774ms/step - loss: 0.1063 - val_loss: 1.1209\n",
            "Epoch 41/50\n",
            "\u001b[1m20/20\u001b[0m \u001b[32m━━━━━━━━━━━━━━━━━━━━\u001b[0m\u001b[37m\u001b[0m \u001b[1m15s\u001b[0m 728ms/step - loss: 0.0967 - val_loss: 1.3806\n",
            "Epoch 42/50\n",
            "\u001b[1m20/20\u001b[0m \u001b[32m━━━━━━━━━━━━━━━━━━━━\u001b[0m\u001b[37m\u001b[0m \u001b[1m14s\u001b[0m 698ms/step - loss: 0.0988 - val_loss: 1.2783\n",
            "Epoch 43/50\n",
            "\u001b[1m20/20\u001b[0m \u001b[32m━━━━━━━━━━━━━━━━━━━━\u001b[0m\u001b[37m\u001b[0m \u001b[1m21s\u001b[0m 712ms/step - loss: 0.0878 - val_loss: 1.3545\n",
            "Epoch 44/50\n",
            "\u001b[1m20/20\u001b[0m \u001b[32m━━━━━━━━━━━━━━━━━━━━\u001b[0m\u001b[37m\u001b[0m \u001b[1m20s\u001b[0m 692ms/step - loss: 0.0759 - val_loss: 1.6982\n",
            "Epoch 45/50\n",
            "\u001b[1m20/20\u001b[0m \u001b[32m━━━━━━━━━━━━━━━━━━━━\u001b[0m\u001b[37m\u001b[0m \u001b[1m21s\u001b[0m 733ms/step - loss: 0.0579 - val_loss: 1.5034\n",
            "Epoch 46/50\n",
            "\u001b[1m20/20\u001b[0m \u001b[32m━━━━━━━━━━━━━━━━━━━━\u001b[0m\u001b[37m\u001b[0m \u001b[1m14s\u001b[0m 672ms/step - loss: 0.0878 - val_loss: 1.3319\n",
            "Epoch 47/50\n",
            "\u001b[1m20/20\u001b[0m \u001b[32m━━━━━━━━━━━━━━━━━━━━\u001b[0m\u001b[37m\u001b[0m \u001b[1m14s\u001b[0m 684ms/step - loss: 0.0589 - val_loss: 1.3655\n",
            "Epoch 48/50\n",
            "\u001b[1m20/20\u001b[0m \u001b[32m━━━━━━━━━━━━━━━━━━━━\u001b[0m\u001b[37m\u001b[0m \u001b[1m14s\u001b[0m 674ms/step - loss: 0.0482 - val_loss: 1.4052\n",
            "Epoch 49/50\n",
            "\u001b[1m20/20\u001b[0m \u001b[32m━━━━━━━━━━━━━━━━━━━━\u001b[0m\u001b[37m\u001b[0m \u001b[1m15s\u001b[0m 746ms/step - loss: 0.0295 - val_loss: 1.5182\n",
            "Epoch 50/50\n",
            "\u001b[1m20/20\u001b[0m \u001b[32m━━━━━━━━━━━━━━━━━━━━\u001b[0m\u001b[37m\u001b[0m \u001b[1m15s\u001b[0m 738ms/step - loss: 0.0678 - val_loss: 1.3775\n"
          ]
        },
        {
          "output_type": "execute_result",
          "data": {
            "text/plain": [
              "<keras.src.callbacks.history.History at 0x7ee085e1ead0>"
            ]
          },
          "metadata": {},
          "execution_count": 23
        }
      ]
    },
    {
      "cell_type": "code",
      "source": [
        "from google.colab import drive\n",
        "drive.mount('/content/drive')"
      ],
      "metadata": {
        "id": "C2_VF_FgZKqT"
      },
      "execution_count": null,
      "outputs": []
    },
    {
      "cell_type": "code",
      "source": [
        "# predict cat and dog\n",
        "from keras.preprocessing import image\n",
        "img=image.load_img(\"/content/drive/MyDrive/cat_1.jpg\",target_size=(100,100))\n",
        "image.img_to_array(img)"
      ],
      "metadata": {
        "colab": {
          "base_uri": "https://localhost:8080/"
        },
        "id": "P1wiOI1cCXJP",
        "outputId": "5fdfb0a3-da82-4c28-9e45-b813fda2dae8"
      },
      "execution_count": null,
      "outputs": [
        {
          "output_type": "execute_result",
          "data": {
            "text/plain": [
              "array([[[ 97., 140., 156.],\n",
              "        [117., 147., 158.],\n",
              "        [119., 148., 156.],\n",
              "        ...,\n",
              "        [ 72., 140., 151.],\n",
              "        [ 71., 140., 147.],\n",
              "        [ 80., 144., 156.]],\n",
              "\n",
              "       [[ 94., 142., 154.],\n",
              "        [101., 140., 155.],\n",
              "        [ 97., 143., 158.],\n",
              "        ...,\n",
              "        [ 54., 126., 140.],\n",
              "        [ 72., 138., 152.],\n",
              "        [ 78., 142., 154.]],\n",
              "\n",
              "       [[ 92., 138., 154.],\n",
              "        [ 94., 140., 156.],\n",
              "        [ 96., 139., 156.],\n",
              "        ...,\n",
              "        [ 59., 136., 146.],\n",
              "        [ 65., 137., 149.],\n",
              "        [ 74., 140., 152.]],\n",
              "\n",
              "       ...,\n",
              "\n",
              "       [[ 20.,  12.,  10.],\n",
              "        [ 21.,  13.,  11.],\n",
              "        [ 21.,  13.,  11.],\n",
              "        ...,\n",
              "        [ 65.,  47.,  45.],\n",
              "        [ 58.,  40.,  38.],\n",
              "        [ 63.,  45.,  45.]],\n",
              "\n",
              "       [[ 63.,  53.,  44.],\n",
              "        [ 70.,  60.,  51.],\n",
              "        [ 67.,  57.,  48.],\n",
              "        ...,\n",
              "        [ 71.,  48.,  42.],\n",
              "        [ 65.,  40.,  35.],\n",
              "        [ 58.,  43.,  40.]],\n",
              "\n",
              "       [[ 46.,  48.,  43.],\n",
              "        [ 41.,  43.,  38.],\n",
              "        [ 41.,  42.,  37.],\n",
              "        ...,\n",
              "        [ 57.,  42.,  37.],\n",
              "        [ 56.,  47.,  40.],\n",
              "        [ 60.,  45.,  42.]]], dtype=float32)"
            ]
          },
          "metadata": {},
          "execution_count": 31
        }
      ]
    },
    {
      "cell_type": "code",
      "source": [
        "# expand data\n",
        "import numpy as np\n",
        "img=np.expand_dims(img,axis=0)"
      ],
      "metadata": {
        "id": "4wUwTRhujArf"
      },
      "execution_count": null,
      "outputs": []
    },
    {
      "cell_type": "code",
      "source": [
        "p=cnn.predict(img)"
      ],
      "metadata": {
        "colab": {
          "base_uri": "https://localhost:8080/"
        },
        "id": "9VWwULfDjRs6",
        "outputId": "46bce225-454e-498e-ae92-05ce643f7363"
      },
      "execution_count": null,
      "outputs": [
        {
          "output_type": "stream",
          "name": "stdout",
          "text": [
            "\u001b[1m1/1\u001b[0m \u001b[32m━━━━━━━━━━━━━━━━━━━━\u001b[0m\u001b[37m\u001b[0m \u001b[1m0s\u001b[0m 195ms/step\n"
          ]
        }
      ]
    },
    {
      "cell_type": "code",
      "source": [
        "if p[0][0] < 0.5:\n",
        "  print(\"dog\")\n",
        "else:\n",
        "  print(\"cat\")\n"
      ],
      "metadata": {
        "colab": {
          "base_uri": "https://localhost:8080/"
        },
        "id": "rALUh4UUjfm3",
        "outputId": "4e4341c8-78e0-4fef-d105-b04f5302dd0b"
      },
      "execution_count": null,
      "outputs": [
        {
          "output_type": "stream",
          "name": "stdout",
          "text": [
            "cat\n"
          ]
        }
      ]
    },
    {
      "cell_type": "code",
      "source": [],
      "metadata": {
        "id": "a6JaDDQikUh8"
      },
      "execution_count": null,
      "outputs": []
    }
  ]
}