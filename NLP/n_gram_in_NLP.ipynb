{
 "cells": [
  {
   "cell_type": "code",
   "execution_count": 1,
   "id": "17af3cf8-68fd-4bc3-a684-43ab5bd506ac",
   "metadata": {},
   "outputs": [],
   "source": [
    "x=\"i am aditya verma i am a good person i am work at laptop\""
   ]
  },
  {
   "cell_type": "code",
   "execution_count": 2,
   "id": "a9d93a32-fb68-4b56-b974-6e9b34c83222",
   "metadata": {},
   "outputs": [],
   "source": [
    "# aplly tokenizer\n",
    "from nltk.tokenize import word_tokenize"
   ]
  },
  {
   "cell_type": "code",
   "execution_count": 4,
   "id": "bcfb96da-ba9e-4191-8f46-4f05250320b1",
   "metadata": {},
   "outputs": [
    {
     "data": {
      "text/plain": [
       "['i',\n",
       " 'am',\n",
       " 'aditya',\n",
       " 'verma',\n",
       " 'i',\n",
       " 'am',\n",
       " 'a',\n",
       " 'good',\n",
       " 'person',\n",
       " 'i',\n",
       " 'am',\n",
       " 'work',\n",
       " 'at',\n",
       " 'laptop']"
      ]
     },
     "execution_count": 4,
     "metadata": {},
     "output_type": "execute_result"
    }
   ],
   "source": [
    "w=word_tokenize(x)\n",
    "w"
   ]
  },
  {
   "cell_type": "code",
   "execution_count": 9,
   "id": "c605921e-4e5d-4b19-b514-f4deacf12019",
   "metadata": {},
   "outputs": [],
   "source": [
    "# apply n gram\n",
    "from nltk.collocations import BigramCollocationFinder,TrigramCollocationFinder,ngrams"
   ]
  },
  {
   "cell_type": "code",
   "execution_count": 11,
   "id": "5930a99f-acc9-4f55-987d-572e8c6f47bd",
   "metadata": {},
   "outputs": [],
   "source": [
    "b=BigramCollocationFinder.from_words(w)"
   ]
  },
  {
   "cell_type": "code",
   "execution_count": 14,
   "id": "c07273f2-6962-4abf-b9b6-5fbb5480c813",
   "metadata": {},
   "outputs": [
    {
     "data": {
      "text/plain": [
       "FreqDist({('i', 'am'): 3, ('am', 'aditya'): 1, ('aditya', 'verma'): 1, ('verma', 'i'): 1, ('am', 'a'): 1, ('a', 'good'): 1, ('good', 'person'): 1, ('person', 'i'): 1, ('am', 'work'): 1, ('work', 'at'): 1, ...})"
      ]
     },
     "execution_count": 14,
     "metadata": {},
     "output_type": "execute_result"
    }
   ],
   "source": [
    "b.ngram_fd"
   ]
  },
  {
   "cell_type": "code",
   "execution_count": 17,
   "id": "25b19504-514c-43ea-955b-3e6e41f7aef6",
   "metadata": {},
   "outputs": [],
   "source": [
    "t=TrigramCollocationFinder.from_words(w)"
   ]
  },
  {
   "cell_type": "code",
   "execution_count": 19,
   "id": "af07bc0e-d196-40ef-8517-2086dc352f6f",
   "metadata": {},
   "outputs": [
    {
     "data": {
      "text/plain": [
       "FreqDist({('i', 'am', 'aditya'): 1, ('am', 'aditya', 'verma'): 1, ('aditya', 'verma', 'i'): 1, ('verma', 'i', 'am'): 1, ('i', 'am', 'a'): 1, ('am', 'a', 'good'): 1, ('a', 'good', 'person'): 1, ('good', 'person', 'i'): 1, ('person', 'i', 'am'): 1, ('i', 'am', 'work'): 1, ...})"
      ]
     },
     "execution_count": 19,
     "metadata": {},
     "output_type": "execute_result"
    }
   ],
   "source": [
    "t.ngram_fd"
   ]
  },
  {
   "cell_type": "code",
   "execution_count": 20,
   "id": "9ca9eac5-dba4-40ca-a432-0765e0ac7dcc",
   "metadata": {},
   "outputs": [],
   "source": [
    "n=ngrams(w,5)"
   ]
  },
  {
   "cell_type": "code",
   "execution_count": 21,
   "id": "7ec596f7-f96f-4fbf-9cd0-14c6c182a9a9",
   "metadata": {},
   "outputs": [
    {
     "data": {
      "text/plain": [
       "<zip at 0x1655aaf8380>"
      ]
     },
     "execution_count": 21,
     "metadata": {},
     "output_type": "execute_result"
    }
   ],
   "source": [
    "n"
   ]
  },
  {
   "cell_type": "code",
   "execution_count": 22,
   "id": "511d93e6-4081-4ea0-9001-bf0e1456d241",
   "metadata": {},
   "outputs": [
    {
     "name": "stdout",
     "output_type": "stream",
     "text": [
      "('i', 'am', 'aditya', 'verma', 'i')\n",
      "('am', 'aditya', 'verma', 'i', 'am')\n",
      "('aditya', 'verma', 'i', 'am', 'a')\n",
      "('verma', 'i', 'am', 'a', 'good')\n",
      "('i', 'am', 'a', 'good', 'person')\n",
      "('am', 'a', 'good', 'person', 'i')\n",
      "('a', 'good', 'person', 'i', 'am')\n",
      "('good', 'person', 'i', 'am', 'work')\n",
      "('person', 'i', 'am', 'work', 'at')\n",
      "('i', 'am', 'work', 'at', 'laptop')\n"
     ]
    }
   ],
   "source": [
    "for i in n:\n",
    "    print(i)"
   ]
  },
  {
   "cell_type": "code",
   "execution_count": null,
   "id": "4324eab6-fe02-425e-90fc-f63300691a6b",
   "metadata": {},
   "outputs": [],
   "source": []
  }
 ],
 "metadata": {
  "kernelspec": {
   "display_name": "Python 3 (ipykernel)",
   "language": "python",
   "name": "python3"
  },
  "language_info": {
   "codemirror_mode": {
    "name": "ipython",
    "version": 3
   },
   "file_extension": ".py",
   "mimetype": "text/x-python",
   "name": "python",
   "nbconvert_exporter": "python",
   "pygments_lexer": "ipython3",
   "version": "3.11.7"
  }
 },
 "nbformat": 4,
 "nbformat_minor": 5
}
