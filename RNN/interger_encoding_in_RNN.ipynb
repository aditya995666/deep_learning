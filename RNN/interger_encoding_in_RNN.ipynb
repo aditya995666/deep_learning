{
  "nbformat": 4,
  "nbformat_minor": 0,
  "metadata": {
    "colab": {
      "provenance": []
    },
    "kernelspec": {
      "name": "python3",
      "display_name": "Python 3"
    },
    "language_info": {
      "name": "python"
    }
  },
  "cells": [
    {
      "cell_type": "code",
      "execution_count": 4,
      "metadata": {
        "id": "qdxN_aFem09h"
      },
      "outputs": [],
      "source": [
        "import numpy as np"
      ]
    },
    {
      "cell_type": "code",
      "source": [
        "doc=[\"india india\",\n",
        "     \"india is a big\",\n",
        "     \"you are best\",\n",
        "     \"you are busy person\",\n",
        "     \"india jai india jai ho\",\n",
        "     \"indai\"]"
      ],
      "metadata": {
        "id": "e-PMqQLUnHzU"
      },
      "execution_count": 5,
      "outputs": []
    },
    {
      "cell_type": "code",
      "source": [
        "from tensorflow.keras.preprocessing.text import Tokenizer"
      ],
      "metadata": {
        "id": "oOM33A7dna5C"
      },
      "execution_count": 6,
      "outputs": []
    },
    {
      "cell_type": "code",
      "source": [
        "tokeniz=Tokenizer(oov_token=\"<oov>\")"
      ],
      "metadata": {
        "id": "LSay65N6H5j6"
      },
      "execution_count": 7,
      "outputs": []
    },
    {
      "cell_type": "code",
      "source": [
        "# fit tthe tokenize\n",
        "tokeniz.fit_on_texts(doc)\n"
      ],
      "metadata": {
        "id": "fbE3Zx7jIH3i"
      },
      "execution_count": 9,
      "outputs": []
    },
    {
      "cell_type": "code",
      "source": [
        "tokeniz.word_index"
      ],
      "metadata": {
        "colab": {
          "base_uri": "https://localhost:8080/"
        },
        "id": "MAcstt8xIcES",
        "outputId": "3a456d87-fd21-4282-d537-016e64d89505"
      },
      "execution_count": 12,
      "outputs": [
        {
          "output_type": "execute_result",
          "data": {
            "text/plain": [
              "{'<oov>': 1,\n",
              " 'india': 2,\n",
              " 'you': 3,\n",
              " 'are': 4,\n",
              " 'jai': 5,\n",
              " 'is': 6,\n",
              " 'a': 7,\n",
              " 'big': 8,\n",
              " 'best': 9,\n",
              " 'busy': 10,\n",
              " 'person': 11,\n",
              " 'ho': 12,\n",
              " 'indai': 13}"
            ]
          },
          "metadata": {},
          "execution_count": 12
        }
      ]
    },
    {
      "cell_type": "code",
      "source": [
        "# count word\n",
        "tokeniz.word_counts"
      ],
      "metadata": {
        "colab": {
          "base_uri": "https://localhost:8080/"
        },
        "id": "NfSNWMOvIkUf",
        "outputId": "62cc6b5e-2246-477e-bc30-3c6bde2e37c0"
      },
      "execution_count": 14,
      "outputs": [
        {
          "output_type": "execute_result",
          "data": {
            "text/plain": [
              "OrderedDict([('india', 5),\n",
              "             ('is', 1),\n",
              "             ('a', 1),\n",
              "             ('big', 1),\n",
              "             ('you', 2),\n",
              "             ('are', 2),\n",
              "             ('best', 1),\n",
              "             ('busy', 1),\n",
              "             ('person', 1),\n",
              "             ('jai', 2),\n",
              "             ('ho', 1),\n",
              "             ('indai', 1)])"
            ]
          },
          "metadata": {},
          "execution_count": 14
        }
      ]
    },
    {
      "cell_type": "code",
      "source": [
        "# apply padding\n",
        "from tensorflow.keras.preprocessing.sequence import pad_sequences"
      ],
      "metadata": {
        "id": "As7GLGnQIwya"
      },
      "execution_count": 15,
      "outputs": []
    },
    {
      "cell_type": "code",
      "source": [
        "sequ=pad_sequences(tokeniz.texts_to_sequences(doc),padding=\"post\")"
      ],
      "metadata": {
        "id": "MmLmdoOtI7b7"
      },
      "execution_count": 16,
      "outputs": []
    },
    {
      "cell_type": "code",
      "source": [
        "sequ"
      ],
      "metadata": {
        "colab": {
          "base_uri": "https://localhost:8080/"
        },
        "id": "fMhLTtBPJGEs",
        "outputId": "9bc1a373-64f7-4bd2-b598-6f36b8f67199"
      },
      "execution_count": 17,
      "outputs": [
        {
          "output_type": "execute_result",
          "data": {
            "text/plain": [
              "array([[ 2,  2,  0,  0,  0],\n",
              "       [ 2,  6,  7,  8,  0],\n",
              "       [ 3,  4,  9,  0,  0],\n",
              "       [ 3,  4, 10, 11,  0],\n",
              "       [ 2,  5,  2,  5, 12],\n",
              "       [13,  0,  0,  0,  0]], dtype=int32)"
            ]
          },
          "metadata": {},
          "execution_count": 17
        }
      ]
    },
    {
      "cell_type": "code",
      "source": [
        "sequ"
      ],
      "metadata": {
        "colab": {
          "base_uri": "https://localhost:8080/"
        },
        "id": "ofrZYu6qJInh",
        "outputId": "4e97b62d-f1c0-4b07-ec40-bb817c0b37e8"
      },
      "execution_count": 20,
      "outputs": [
        {
          "output_type": "execute_result",
          "data": {
            "text/plain": [
              "array([[ 2,  2,  0,  0,  0],\n",
              "       [ 2,  6,  7,  8,  0],\n",
              "       [ 3,  4,  9,  0,  0],\n",
              "       [ 3,  4, 10, 11,  0],\n",
              "       [ 2,  5,  2,  5, 12],\n",
              "       [13,  0,  0,  0,  0]], dtype=int32)"
            ]
          },
          "metadata": {},
          "execution_count": 20
        }
      ]
    },
    {
      "cell_type": "code",
      "source": [
        "rnn=Sequential()"
      ],
      "metadata": {
        "id": "uNmOwDC7JWRx"
      },
      "execution_count": 25,
      "outputs": []
    }
  ]
}